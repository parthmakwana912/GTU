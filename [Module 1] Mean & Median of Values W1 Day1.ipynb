{
 "cells": [
  {
   "cell_type": "code",
   "execution_count": 10,
   "id": "68c9099b",
   "metadata": {},
   "outputs": [],
   "source": [
    "import numpy as np"
   ]
  },
  {
   "cell_type": "code",
   "execution_count": 19,
   "id": "7730257d",
   "metadata": {},
   "outputs": [],
   "source": [
    "cric_data = np.loadtxt('cric.tsv',skiprows = 1)"
   ]
  },
  {
   "cell_type": "code",
   "execution_count": 20,
   "id": "eef8e670",
   "metadata": {},
   "outputs": [
    {
     "data": {
      "text/plain": [
       "array([[  0., 100.,  78., 342.],\n",
       "       [  1.,  11.,  62., 191.],\n",
       "       [  2.,   8.,  85., 252.],\n",
       "       [  3.,  71.,  24., 307.],\n",
       "       [  4., 104.,  17., 229.],\n",
       "       [  5.,  18., 104., 246.],\n",
       "       [  6.,   8.,  76., 226.],\n",
       "       [  7.,  86.,  74., 288.],\n",
       "       [  8.,  12.,  60., 216.],\n",
       "       [  9.,  25.,  90., 304.],\n",
       "       [ 10.,  56.,   6., 272.],\n",
       "       [ 11.,  88.,  69., 302.],\n",
       "       [ 12., 147.,  65., 312.],\n",
       "       [ 13., 121., 146., 370.],\n",
       "       [ 15.,  99., 110., 362.]])"
      ]
     },
     "execution_count": 20,
     "metadata": {},
     "output_type": "execute_result"
    }
   ],
   "source": [
    "cric_data"
   ]
  },
  {
   "cell_type": "code",
   "execution_count": 49,
   "id": "9eeb9fbb",
   "metadata": {},
   "outputs": [],
   "source": [
    "sachin = cric_data[:,1]\n",
    "dravid = cric_data[:,2]\n",
    "india = cric_data[:,3]\n"
   ]
  },
  {
   "cell_type": "code",
   "execution_count": 50,
   "id": "a286019d",
   "metadata": {},
   "outputs": [
    {
     "name": "stdout",
     "output_type": "stream",
     "text": [
      "63.6\n",
      "71.0\n"
     ]
    }
   ],
   "source": [
    "print(np.mean(sachin))\n",
    "print(np.median(sachin))"
   ]
  },
  {
   "cell_type": "code",
   "execution_count": 51,
   "id": "200900af",
   "metadata": {},
   "outputs": [
    {
     "name": "stdout",
     "output_type": "stream",
     "text": [
      "71.06666666666666\n",
      "74.0\n"
     ]
    }
   ],
   "source": [
    "print(np.mean(dravid))\n",
    "print(np.median(dravid))"
   ]
  },
  {
   "cell_type": "code",
   "execution_count": 52,
   "id": "c4899a1c",
   "metadata": {},
   "outputs": [
    {
     "name": "stdout",
     "output_type": "stream",
     "text": [
      "281.26666666666665\n",
      "288.0\n"
     ]
    }
   ],
   "source": [
    "print(np.mean(india))\n",
    "print(np.median(india))"
   ]
  },
  {
   "cell_type": "code",
   "execution_count": null,
   "id": "a88e7735",
   "metadata": {},
   "outputs": [],
   "source": []
  }
 ],
 "metadata": {
  "kernelspec": {
   "display_name": "Python 3 (ipykernel)",
   "language": "python",
   "name": "python3"
  },
  "language_info": {
   "codemirror_mode": {
    "name": "ipython",
    "version": 3
   },
   "file_extension": ".py",
   "mimetype": "text/x-python",
   "name": "python",
   "nbconvert_exporter": "python",
   "pygments_lexer": "ipython3",
   "version": "3.9.12"
  }
 },
 "nbformat": 4,
 "nbformat_minor": 5
}
